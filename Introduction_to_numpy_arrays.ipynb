{
 "cells": [
  {
   "cell_type": "code",
   "execution_count": 2,
   "id": "4942dad4-595f-45ac-9ecc-6b325f4bf908",
   "metadata": {},
   "outputs": [],
   "source": [
    "import numpy as np"
   ]
  },
  {
   "cell_type": "code",
   "execution_count": 3,
   "id": "a2b5d597-4f52-42c8-89d8-77ed8463a8b4",
   "metadata": {},
   "outputs": [
    {
     "name": "stdout",
     "output_type": "stream",
     "text": [
      "[10 12]\n"
     ]
    }
   ],
   "source": [
    "one_dimensional_arr = np.array([10, 12])\n",
    "print(one_dimensional_arr)\n"
   ]
  },
  {
   "cell_type": "code",
   "execution_count": 4,
   "id": "4a18f41c-5398-48ed-85b2-3859c642cac6",
   "metadata": {},
   "outputs": [
    {
     "name": "stdout",
     "output_type": "stream",
     "text": [
      "[1 2 3]\n"
     ]
    }
   ],
   "source": [
    "# Create and print a NumPy array 'a' containing the elements 1, 2, 3.\n",
    "a = np.array([1, 2, 3])\n",
    "print(a)"
   ]
  },
  {
   "cell_type": "code",
   "execution_count": 6,
   "id": "33e59642-2e66-486b-88a3-c9c51f28cb16",
   "metadata": {},
   "outputs": [
    {
     "name": "stdout",
     "output_type": "stream",
     "text": [
      "[0 1 2]\n"
     ]
    }
   ],
   "source": [
    "# Create an array with 3 integers, starting from the default integer 0.\n",
    "b = np.arange(3)\n",
    "print(b)"
   ]
  },
  {
   "cell_type": "code",
   "execution_count": 7,
   "id": "863734bf-06fb-4cdf-ad5b-81621c99a830",
   "metadata": {},
   "outputs": [
    {
     "name": "stdout",
     "output_type": "stream",
     "text": [
      "[ 1  4  7 10 13 16 19]\n"
     ]
    }
   ],
   "source": [
    "# Create an array that starts from the integer 1, ends at 20, incremented by 3.\n",
    "c = np.arange(1, 20, 3)\n",
    "print(c)"
   ]
  },
  {
   "cell_type": "code",
   "execution_count": 8,
   "id": "9a552c77-6814-46fb-a2f5-c3c19ece0488",
   "metadata": {},
   "outputs": [
    {
     "name": "stdout",
     "output_type": "stream",
     "text": [
      "[  0.  25.  50.  75. 100.]\n"
     ]
    }
   ],
   "source": [
    "# Creates an array of evenly spaced values between two specified points.\n",
    "lin_spaced_arr = np.linspace(0, 100, 5)\n",
    "print(lin_spaced_arr)"
   ]
  },
  {
   "cell_type": "code",
   "execution_count": 11,
   "id": "0830e350-7da3-4e8e-829c-b6e0934d517f",
   "metadata": {},
   "outputs": [
    {
     "name": "stdout",
     "output_type": "stream",
     "text": [
      "[  0  25  50  75 100]\n"
     ]
    }
   ],
   "source": [
    "# Specify data type\n",
    "lin_spaced_arr_int = np.linspace(0, 100, 5, dtype=int)\n",
    "print(lin_spaced_arr_int)"
   ]
  },
  {
   "cell_type": "code",
   "execution_count": 12,
   "id": "229bf533-2598-4e62-b133-947b6171f9e2",
   "metadata": {},
   "outputs": [
    {
     "name": "stdout",
     "output_type": "stream",
     "text": [
      "[ 1  4  7 10 13 16 19]\n"
     ]
    }
   ],
   "source": [
    "c_int = np.arange(1, 20, 3, dtype=int)\n",
    "print(c_int)"
   ]
  },
  {
   "cell_type": "code",
   "execution_count": 13,
   "id": "c9aedc4f-ea8d-4ea0-80e6-875c57901912",
   "metadata": {},
   "outputs": [
    {
     "name": "stdout",
     "output_type": "stream",
     "text": [
      "[0. 1. 2.]\n"
     ]
    }
   ],
   "source": [
    "b_float = np.arange(3, dtype=float)\n",
    "print(b_float)"
   ]
  },
  {
   "cell_type": "code",
   "execution_count": 14,
   "id": "de750724-b8db-4fe5-ae41-723267e5631f",
   "metadata": {},
   "outputs": [
    {
     "name": "stdout",
     "output_type": "stream",
     "text": [
      "['Welcome to Math for ML!']\n",
      "<U23\n"
     ]
    }
   ],
   "source": [
    "char_arr = np.array(['Welcome to Math for ML!'])\n",
    "print(char_arr)\n",
    "print(char_arr.dtype) # Prints the data type of the array"
   ]
  },
  {
   "cell_type": "code",
   "execution_count": 15,
   "id": "11601bca-0304-4df7-81b0-c7ca0bd0584e",
   "metadata": {},
   "outputs": [
    {
     "name": "stdout",
     "output_type": "stream",
     "text": [
      "[1. 1. 1.]\n"
     ]
    }
   ],
   "source": [
    "# Return a new array of shape 3, filled with ones. \n",
    "ones_arr = np.ones(3)\n",
    "print(ones_arr)"
   ]
  },
  {
   "cell_type": "code",
   "execution_count": 16,
   "id": "90b143e3-9a47-4b79-8f50-e7343f93690f",
   "metadata": {},
   "outputs": [
    {
     "name": "stdout",
     "output_type": "stream",
     "text": [
      "[0. 0. 0.]\n"
     ]
    }
   ],
   "source": [
    "# Return a new array of shape 3, filled with zeroes.\n",
    "zeros_arr = np.zeros(3)\n",
    "print(zeros_arr)"
   ]
  },
  {
   "cell_type": "code",
   "execution_count": 17,
   "id": "cd1930c9-4c89-4fae-9c68-720b648892c6",
   "metadata": {},
   "outputs": [
    {
     "name": "stdout",
     "output_type": "stream",
     "text": [
      "[0. 0. 0.]\n"
     ]
    }
   ],
   "source": [
    "# Return a new array of shape 3, without initializing entries.\n",
    "empt_arr = np.empty(3)\n",
    "print(empt_arr)"
   ]
  },
  {
   "cell_type": "code",
   "execution_count": 18,
   "id": "c501d067-b8f1-4aba-962c-a1d4964eef65",
   "metadata": {},
   "outputs": [
    {
     "name": "stdout",
     "output_type": "stream",
     "text": [
      "[0.20920253 0.25653927 0.69063079]\n"
     ]
    }
   ],
   "source": [
    "# Return a new array of shape 3 with random numbers between 0 and 1.\n",
    "rand_arr = np.random.rand(3)\n",
    "print(rand_arr)"
   ]
  },
  {
   "cell_type": "code",
   "execution_count": 19,
   "id": "605abb52-b039-4558-bdc6-484cd33c92b9",
   "metadata": {},
   "outputs": [
    {
     "name": "stdout",
     "output_type": "stream",
     "text": [
      "[[1 2 3]\n",
      " [4 5 6]]\n"
     ]
    }
   ],
   "source": [
    "# Create a 2 dimensional array (2-D)\n",
    "two_dim_arr = np.array([[1,2,3], [4,5,6]])\n",
    "print(two_dim_arr)"
   ]
  },
  {
   "cell_type": "code",
   "execution_count": 20,
   "id": "24108172-9c45-49ee-b9c4-3bd712b3dea2",
   "metadata": {},
   "outputs": [
    {
     "name": "stdout",
     "output_type": "stream",
     "text": [
      "[[1 2 3]\n",
      " [4 5 6]]\n"
     ]
    }
   ],
   "source": [
    "# 1-D array \n",
    "one_dim_arr = np.array([1, 2, 3, 4, 5, 6])\n",
    "\n",
    "# Multidimensional array using reshape()\n",
    "multi_dim_arr = np.reshape(\n",
    "                    one_dim_arr, # the array to be reshaped\n",
    "                    (2,3) # dimensions of the new array\n",
    "                )\n",
    "# Print the new 2-D array with two rows and three columns\n",
    "print(multi_dim_arr)"
   ]
  },
  {
   "cell_type": "code",
   "execution_count": 21,
   "id": "643f6d29-c88d-4951-abc5-71864e3dda6b",
   "metadata": {},
   "outputs": [
    {
     "data": {
      "text/plain": [
       "2"
      ]
     },
     "execution_count": 21,
     "metadata": {},
     "output_type": "execute_result"
    }
   ],
   "source": [
    "# Dimension of the 2-D array multi_dim_arr\n",
    "multi_dim_arr.ndim"
   ]
  },
  {
   "cell_type": "code",
   "execution_count": 22,
   "id": "f40751b8-10e7-4b7e-9b16-88c161f05b00",
   "metadata": {},
   "outputs": [
    {
     "data": {
      "text/plain": [
       "(2, 3)"
      ]
     },
     "execution_count": 22,
     "metadata": {},
     "output_type": "execute_result"
    }
   ],
   "source": [
    "# Shape of the 2-D array multi_dim_arr\n",
    "# Returns shape of 2 rows and 3 columns\n",
    "multi_dim_arr.shape"
   ]
  },
  {
   "cell_type": "code",
   "execution_count": 23,
   "id": "d1499bf5-9032-4f07-a32c-4ead2d3d6a8d",
   "metadata": {},
   "outputs": [
    {
     "data": {
      "text/plain": [
       "6"
      ]
     },
     "execution_count": 23,
     "metadata": {},
     "output_type": "execute_result"
    }
   ],
   "source": [
    "# Size of the array multi_dim_arr\n",
    "# Returns total number of elements\n",
    "multi_dim_arr.size"
   ]
  },
  {
   "cell_type": "code",
   "execution_count": 24,
   "id": "db32ccdb-722c-4d7d-930a-93a70ca1a2c2",
   "metadata": {},
   "outputs": [
    {
     "name": "stdout",
     "output_type": "stream",
     "text": [
      "[ 3  7 11]\n",
      "[1 1 1]\n",
      "[ 2 12 30]\n"
     ]
    }
   ],
   "source": [
    "arr_1 = np.array([2, 4, 6])\n",
    "arr_2 = np.array([1, 3, 5])\n",
    "\n",
    "# Adding two 1-D arrays\n",
    "addition = arr_1 + arr_2\n",
    "print(addition)\n",
    "\n",
    "# Subtracting two 1-D arrays\n",
    "subtraction = arr_1 - arr_2\n",
    "print(subtraction)\n",
    "\n",
    "# Multiplying two 1-D arrays elementwise\n",
    "multiplication = arr_1 * arr_2\n",
    "print(multiplication)"
   ]
  },
  {
   "cell_type": "code",
   "execution_count": 27,
   "id": "bd413c34-a1a9-484c-b760-c0212bcba2bd",
   "metadata": {},
   "outputs": [
    {
     "data": {
      "text/plain": [
       "array([1.6, 3.2])"
      ]
     },
     "execution_count": 27,
     "metadata": {},
     "output_type": "execute_result"
    }
   ],
   "source": [
    "# Create a numpy array and perform broadcasting\n",
    "vector = np.array([1, 2])\n",
    "vector * 1.6"
   ]
  },
  {
   "cell_type": "code",
   "execution_count": 28,
   "id": "01c52cb4-a573-4c7c-b1b1-3fd6b13417fa",
   "metadata": {},
   "outputs": [
    {
     "name": "stdout",
     "output_type": "stream",
     "text": [
      "3\n",
      "1\n"
     ]
    }
   ],
   "source": [
    "# Select the third element of the array. Remember the counting starts from 0.\n",
    "a = np.array([1, 2, 3, 4, 5])\n",
    "print(a[2])\n",
    "\n",
    "# Select the first element of the array.\n",
    "print(a[0])"
   ]
  },
  {
   "cell_type": "code",
   "execution_count": 29,
   "id": "e4046bad-0fad-4f88-906e-715bfc1277cb",
   "metadata": {},
   "outputs": [
    {
     "name": "stdout",
     "output_type": "stream",
     "text": [
      "[2 3 4]\n"
     ]
    }
   ],
   "source": [
    "# Slice the array a to get the array [2,3,4]\n",
    "sliced_arr = a[1:4]\n",
    "print(sliced_arr)"
   ]
  },
  {
   "cell_type": "code",
   "execution_count": 30,
   "id": "52d35bd8-fbd8-4d32-bbde-d04e2085a2cb",
   "metadata": {},
   "outputs": [
    {
     "name": "stdout",
     "output_type": "stream",
     "text": [
      "[1 2 3]\n"
     ]
    }
   ],
   "source": [
    "# Slice the array a to get the array [1,2,3]\n",
    "sliced_arr = a[:3]\n",
    "print(sliced_arr)"
   ]
  },
  {
   "cell_type": "code",
   "execution_count": 31,
   "id": "3f92bd4c-2b8c-45e8-bdbf-6ebd27a63912",
   "metadata": {},
   "outputs": [
    {
     "name": "stdout",
     "output_type": "stream",
     "text": [
      "[3 4 5]\n"
     ]
    }
   ],
   "source": [
    "# Slice the array a to get the array [3,4,5]\n",
    "sliced_arr = a[2:]\n",
    "print(sliced_arr)"
   ]
  },
  {
   "cell_type": "code",
   "execution_count": 32,
   "id": "13b75437-a16c-4b2e-b06a-bbdb1b4e08d7",
   "metadata": {},
   "outputs": [
    {
     "name": "stdout",
     "output_type": "stream",
     "text": [
      "[1 3 5]\n"
     ]
    }
   ],
   "source": [
    "# Slice the array a to get the array [1,3,5]\n",
    "sliced_arr = a[::2]\n",
    "print(sliced_arr)"
   ]
  },
  {
   "cell_type": "code",
   "execution_count": 33,
   "id": "2fd1312e-28e6-465a-a48d-a5270390febe",
   "metadata": {},
   "outputs": [
    {
     "name": "stdout",
     "output_type": "stream",
     "text": [
      "a == a[:]: [ True  True  True  True  True]\n",
      "a[:] == a[::]: [ True  True  True  True  True]\n"
     ]
    }
   ],
   "source": [
    "# Note that a == a[:] == a[::]\n",
    "print(f'a == a[:]: {a == a[:]}')\n",
    "print(f'a[:] == a[::]: {a[:] == a[::]}')"
   ]
  },
  {
   "cell_type": "code",
   "execution_count": 12,
   "id": "5a85fbdd-e547-4c35-93c6-18a6cfdb1b9e",
   "metadata": {},
   "outputs": [
    {
     "data": {
      "text/plain": [
       "array([[1, 2, 3],\n",
       "       [4, 5, 6],\n",
       "       [7, 8, 9]])"
      ]
     },
     "execution_count": 12,
     "metadata": {},
     "output_type": "execute_result"
    }
   ],
   "source": [
    "import numpy as np  # Ensure numpy is imported in this cell\n",
    "# Create a 2D array (two_dim) using numpy\n",
    "two_dim = np.array([[1, 2, 3],\n",
    "                    [4, 5, 6],\n",
    "                    [7, 8, 9]])\n",
    "two_dim"
   ]
  },
  {
   "cell_type": "code",
   "execution_count": 13,
   "id": "7ff1c1b9-ec2e-4cf0-b32e-fe1f225cca62",
   "metadata": {},
   "outputs": [
    {
     "data": {
      "text/plain": [
       "array([[1, 2, 3],\n",
       "       [4, 5, 6]])"
      ]
     },
     "execution_count": 13,
     "metadata": {},
     "output_type": "execute_result"
    }
   ],
   "source": [
    "# Slice the two_dim array to get the first two rows\n",
    "sliced_arr_1 = two_dim[0:2]\n",
    "sliced_arr_1"
   ]
  },
  {
   "cell_type": "code",
   "execution_count": 14,
   "id": "53d1df48-a868-4b6d-82a6-050bac348af1",
   "metadata": {},
   "outputs": [
    {
     "name": "stdout",
     "output_type": "stream",
     "text": [
      "[[4 5 6]\n",
      " [7 8 9]]\n"
     ]
    }
   ],
   "source": [
    "# Similarily, slice the two_dim array to get the last two rows\n",
    "sliced_two_dim_rows = two_dim[1:3]\n",
    "print(sliced_two_dim_rows)"
   ]
  },
  {
   "cell_type": "code",
   "execution_count": 15,
   "id": "49728e91-7eb8-4645-a60e-547d5b69d7e0",
   "metadata": {},
   "outputs": [
    {
     "name": "stdout",
     "output_type": "stream",
     "text": [
      "[2 5 8]\n"
     ]
    }
   ],
   "source": [
    "# This example uses slice notation to get every row, and then pulls the second column.\n",
    "# Notice how this example combines slice notation with the use of multiple indexes\n",
    "sliced_two_dim_cols = two_dim[:,1]\n",
    "print(sliced_two_dim_cols)"
   ]
  },
  {
   "cell_type": "code",
   "execution_count": 21,
   "id": "296e189e-5d79-4c19-a54b-5fb0ecab6e13",
   "metadata": {},
   "outputs": [
    {
     "name": "stdout",
     "output_type": "stream",
     "text": [
      "a1:\n",
      "[[1 1]\n",
      " [2 2]]\n",
      "a2:\n",
      "[[3 3]\n",
      " [4 4]]\n"
     ]
    }
   ],
   "source": [
    "import numpy as np  # Ensure numpy is imported in this cell\n",
    "\n",
    "a1 = np.array([[1,1], \n",
    "               [2,2]])\n",
    "a2 = np.array([[3,3],\n",
    "              [4,4]])\n",
    "print(f'a1:\\n{a1}')\n",
    "print(f'a2:\\n{a2}')"
   ]
  },
  {
   "cell_type": "code",
   "execution_count": 22,
   "id": "884c42ca-7bd0-41f1-a49d-3d881633e90f",
   "metadata": {},
   "outputs": [
    {
     "name": "stdout",
     "output_type": "stream",
     "text": [
      "[[1 1]\n",
      " [2 2]\n",
      " [3 3]\n",
      " [4 4]]\n"
     ]
    }
   ],
   "source": [
    "# Stack the arrays vertically\n",
    "vert_stack = np.vstack((a1, a2))\n",
    "print(vert_stack)"
   ]
  },
  {
   "cell_type": "code",
   "execution_count": 23,
   "id": "61c0f94f-419d-4122-a8c3-d209d95fc79f",
   "metadata": {},
   "outputs": [
    {
     "name": "stdout",
     "output_type": "stream",
     "text": [
      "[[1 1 3 3]\n",
      " [2 2 4 4]]\n"
     ]
    }
   ],
   "source": [
    "# Stack the arrays horizontally\n",
    "horz_stack = np.hstack((a1, a2))\n",
    "print(horz_stack)"
   ]
  },
  {
   "cell_type": "code",
   "execution_count": 24,
   "id": "3f6f688c-dfeb-42bd-9fde-a40c6a50fa9e",
   "metadata": {},
   "outputs": [
    {
     "name": "stdout",
     "output_type": "stream",
     "text": [
      "[array([[1, 1],\n",
      "       [2, 2]]), array([[3, 3],\n",
      "       [4, 4]])]\n",
      "[array([[1],\n",
      "       [2]]), array([[1],\n",
      "       [2]]), array([[3],\n",
      "       [4]]), array([[3],\n",
      "       [4]])]\n",
      "[array([[1],\n",
      "       [2]]), array([[1, 3, 3],\n",
      "       [2, 4, 4]])]\n"
     ]
    }
   ],
   "source": [
    "# Split the horizontally stacked array into 2 separate arrays of equal size\n",
    "horz_split_two = np.hsplit(horz_stack,2)\n",
    "print(horz_split_two)\n",
    "\n",
    "# Split the horizontally stacked array into 4 separate arrays of equal size\n",
    "horz_split_four = np.hsplit(horz_stack,4)\n",
    "print(horz_split_four)\n",
    "\n",
    "# Split the horizontally stacked array after the first column\n",
    "horz_split_first = np.hsplit(horz_stack,[1])\n",
    "print(horz_split_first)"
   ]
  },
  {
   "cell_type": "code",
   "execution_count": 25,
   "id": "79bd45a5-2d86-4e3e-a058-5a2a777124c1",
   "metadata": {},
   "outputs": [
    {
     "name": "stdout",
     "output_type": "stream",
     "text": [
      "[array([[1, 1],\n",
      "       [2, 2]]), array([[3, 3],\n",
      "       [4, 4]])]\n",
      "[array([[1, 1]]), array([[2, 2]]), array([[3, 3]]), array([[4, 4]])]\n",
      "[array([[1, 1]]), array([[2, 2],\n",
      "       [3, 3]]), array([[4, 4]])]\n"
     ]
    }
   ],
   "source": [
    "# Split the vertically stacked array into 2 separate arrays of equal size\n",
    "vert_split_two = np.vsplit(vert_stack,2)\n",
    "print(vert_split_two)\n",
    "\n",
    "# Split the vertically stacked array into 4 separate arrays of equal size\n",
    "vert_split_four = np.vsplit(vert_stack,4)\n",
    "print(vert_split_four)\n",
    "\n",
    "# Split the vertically stacked array after the first and third row\n",
    "vert_split_first_third = np.vsplit(vert_stack,[1,3])\n",
    "print(vert_split_first_third)"
   ]
  },
  {
   "cell_type": "code",
   "execution_count": null,
   "id": "1ed23c9e-8ce1-45f6-91bf-b5cbb58585c2",
   "metadata": {},
   "outputs": [],
   "source": []
  }
 ],
 "metadata": {
  "kernelspec": {
   "display_name": "Python 3 (ipykernel)",
   "language": "python",
   "name": "python3"
  },
  "language_info": {
   "codemirror_mode": {
    "name": "ipython",
    "version": 3
   },
   "file_extension": ".py",
   "mimetype": "text/x-python",
   "name": "python",
   "nbconvert_exporter": "python",
   "pygments_lexer": "ipython3",
   "version": "3.9.13"
  }
 },
 "nbformat": 4,
 "nbformat_minor": 5
}
